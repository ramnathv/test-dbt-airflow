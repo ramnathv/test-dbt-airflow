{
 "cells": [
  {
   "cell_type": "code",
   "execution_count": 1,
   "metadata": {},
   "outputs": [],
   "source": [
    "import yaml\n",
    "import pandas as pd\n",
    "from pathlib import Path\n",
    "foo_yaml = Path('foo.yml').read_text()\n",
    "dag_config = yaml.safe_load(foo_yaml)\n",
    "# pd.DataFrame(dag_config['tasks'])"
   ]
  },
  {
   "cell_type": "code",
   "execution_count": 2,
   "metadata": {},
   "outputs": [
    {
     "data": {
      "text/html": [
       "<div>\n",
       "<style scoped>\n",
       "    .dataframe tbody tr th:only-of-type {\n",
       "        vertical-align: middle;\n",
       "    }\n",
       "\n",
       "    .dataframe tbody tr th {\n",
       "        vertical-align: top;\n",
       "    }\n",
       "\n",
       "    .dataframe thead th {\n",
       "        text-align: right;\n",
       "    }\n",
       "</style>\n",
       "<table border=\"1\" class=\"dataframe\">\n",
       "  <thead>\n",
       "    <tr style=\"text-align: right;\">\n",
       "      <th></th>\n",
       "      <th>operator</th>\n",
       "      <th>task_group_name</th>\n",
       "      <th>dependencies</th>\n",
       "      <th>task_name</th>\n",
       "    </tr>\n",
       "  </thead>\n",
       "  <tbody>\n",
       "    <tr>\n",
       "      <th>0</th>\n",
       "      <td>airflow.operators.dummy_operator.DummyOperator</td>\n",
       "      <td>assessment</td>\n",
       "      <td>NaN</td>\n",
       "      <td>src_assessment_builds</td>\n",
       "    </tr>\n",
       "    <tr>\n",
       "      <th>1</th>\n",
       "      <td>airflow.operators.dummy_operator.DummyOperator</td>\n",
       "      <td>assessment</td>\n",
       "      <td>NaN</td>\n",
       "      <td>src_assessment_test_item_subjects</td>\n",
       "    </tr>\n",
       "    <tr>\n",
       "      <th>2</th>\n",
       "      <td>airflow.operators.dummy_operator.DummyOperator</td>\n",
       "      <td>assessment</td>\n",
       "      <td>NaN</td>\n",
       "      <td>src_assessment_test_items</td>\n",
       "    </tr>\n",
       "    <tr>\n",
       "      <th>3</th>\n",
       "      <td>airflow.operators.dummy_operator.DummyOperator</td>\n",
       "      <td>assessment</td>\n",
       "      <td>NaN</td>\n",
       "      <td>src_assessment_test_pools</td>\n",
       "    </tr>\n",
       "    <tr>\n",
       "      <th>4</th>\n",
       "      <td>airflow.operators.dummy_operator.DummyOperator</td>\n",
       "      <td>assessment</td>\n",
       "      <td>NaN</td>\n",
       "      <td>src_assessment_tests</td>\n",
       "    </tr>\n",
       "  </tbody>\n",
       "</table>\n",
       "</div>"
      ],
      "text/plain": [
       "                                         operator task_group_name  \\\n",
       "0  airflow.operators.dummy_operator.DummyOperator      assessment   \n",
       "1  airflow.operators.dummy_operator.DummyOperator      assessment   \n",
       "2  airflow.operators.dummy_operator.DummyOperator      assessment   \n",
       "3  airflow.operators.dummy_operator.DummyOperator      assessment   \n",
       "4  airflow.operators.dummy_operator.DummyOperator      assessment   \n",
       "\n",
       "  dependencies                          task_name  \n",
       "0          NaN              src_assessment_builds  \n",
       "1          NaN  src_assessment_test_item_subjects  \n",
       "2          NaN          src_assessment_test_items  \n",
       "3          NaN          src_assessment_test_pools  \n",
       "4          NaN               src_assessment_tests  "
      ]
     },
     "execution_count": 2,
     "metadata": {},
     "output_type": "execute_result"
    }
   ],
   "source": [
    "tasks_all = dag_config['dag_factory_dp']['tasks']\n",
    "tasks_df = pd.DataFrame(tasks_all).T\n",
    "tasks_df['task_name'] = tasks_df.index\n",
    "tasks_df.reset_index(drop=True).head()"
   ]
  },
  {
   "cell_type": "code",
   "execution_count": 5,
   "metadata": {},
   "outputs": [
    {
     "data": {
      "text/plain": [
       "{'operator': 'airflow.operators.dummy_operator.DummyOperator',\n",
       " 'task_group_name': 'views_content',\n",
       " 'dependencies': ['lessons_airtable',\n",
       "  'exercises_raw',\n",
       "  'src_main_app_chapters',\n",
       "  'src_main_app_courses',\n",
       "  'src_main_app_exercises',\n",
       "  'src_teach_app_repositories']}"
      ]
     },
     "execution_count": 5,
     "metadata": {},
     "output_type": "execute_result"
    }
   ],
   "source": [
    "tasks_all['exercises']"
   ]
  },
  {
   "cell_type": "code",
   "execution_count": 4,
   "metadata": {},
   "outputs": [],
   "source": [
    "tasks_all_mappings = {k: v['task_group_name'] for k, v in tasks_all.items()}"
   ]
  },
  {
   "cell_type": "code",
   "execution_count": 54,
   "metadata": {},
   "outputs": [],
   "source": [
    "from copy import deepcopy\n",
    "def write_dag_yml(dag_name = 'views_content'):\n",
    "    _tasks = {\n",
    "        task_name: task_config \n",
    "        for task_name, task_config in tasks_all.items() \n",
    "        if task_config['task_group_name'] == dag_name\n",
    "    }\n",
    "    tasks = deepcopy(_tasks)\n",
    "    task_names = [k for k, v in tasks.items()]\n",
    "    \n",
    "    for task_name in task_names:\n",
    "        dependencies = tasks[task_name].get('dependencies', [])\n",
    "        deps = []\n",
    "        for dep in dependencies:\n",
    "            if 'src' in dep:\n",
    "                pass\n",
    "            elif dep not in task_names:\n",
    "                deps.append(f'wait_for_{dep}')\n",
    "            else:\n",
    "                deps.append(dep)\n",
    "                \n",
    "        tasks[task_name]['task_group_name'] = f'{task_name.split(\"_\")[0]}_g'\n",
    "        tasks[task_name]['dependencies'] = deps\n",
    "\n",
    "    deps = [v.get('dependencies', []) for k, v in tasks.items()]\n",
    "    wait_for_tasks = list(set([item for sublist in deps for item in sublist if 'wait' in item]))\n",
    "    for wait_for_task in wait_for_tasks:\n",
    "        tasks[wait_for_task] = dict(\n",
    "        operator = \"airflow.sensors.external_task.ExternalTaskSensor\",\n",
    "        external_dag_id =  tasks_all_mappings[wait_for_task.replace('wait_for_', '')],\n",
    "        external_task_id = wait_for_task.replace('wait_for_', ''),\n",
    "        task_group_name = tasks_all_mappings[wait_for_task.replace('wait_for_', '')]\n",
    "    )\n",
    "\n",
    "    _task_groups = list(set([v.get('task_group_name') for k, v in tasks.items() if v.get('task_group_name') is not None]))\n",
    "    task_groups = {v: {} for v in _task_groups}\n",
    "    \n",
    "    out_2 = dict(task_groups = task_groups, tasks = tasks)\n",
    "    out = {dag_name: {**out_1, **out_2}}\n",
    "    with open(f'{dag_name}.yml', 'w') as file:\n",
    "        yaml.dump(out, sort_keys=False, stream=file)\n"
   ]
  },
  {
   "cell_type": "code",
   "execution_count": 56,
   "metadata": {},
   "outputs": [],
   "source": [
    "write_dag_yml('views_assessment')\n"
   ]
  },
  {
   "cell_type": "code",
   "execution_count": 7,
   "metadata": {},
   "outputs": [],
   "source": []
  },
  {
   "cell_type": "code",
   "execution_count": 8,
   "metadata": {},
   "outputs": [
    {
     "data": {
      "text/plain": [
       "{'views_mat': {},\n",
       " 'views_content_v2': {},\n",
       " 'views_mobile': {},\n",
       " 'views_snowplow': {},\n",
       " 'views_assessment-hourly': {},\n",
       " 'views_content': {}}"
      ]
     },
     "execution_count": 8,
     "metadata": {},
     "output_type": "execute_result"
    }
   ],
   "source": []
  },
  {
   "cell_type": "code",
   "execution_count": 40,
   "metadata": {},
   "outputs": [],
   "source": [
    "out_1 = yaml.safe_load(\"\"\"\n",
    "default_args:\n",
    "    owner: example_owner\n",
    "    start_date: '2022-02-12'\n",
    "    retries: 1\n",
    "    retry_delay_sec: 300\n",
    "    dir: '/workspace/test-dbt-airflow/dbt-greenery'\n",
    "schedule_interval: None\n",
    "concurrency: 1\n",
    "max_active_runs: 1\n",
    "dagrun_timeout_sec: 300\n",
    "default_view: tree\n",
    "orientation: LR\n",
    "description: this is an example dag!\n",
    "\"\"\")\n"
   ]
  },
  {
   "cell_type": "code",
   "execution_count": 38,
   "metadata": {},
   "outputs": [],
   "source": [
    "\n"
   ]
  },
  {
   "cell_type": "code",
   "execution_count": 37,
   "metadata": {},
   "outputs": [
    {
     "name": "stdout",
     "output_type": "stream",
     "text": [
      "\u001b[0;31mSignature:\u001b[0m \u001b[0myaml\u001b[0m\u001b[0;34m.\u001b[0m\u001b[0mdump\u001b[0m\u001b[0;34m(\u001b[0m\u001b[0mdata\u001b[0m\u001b[0;34m,\u001b[0m \u001b[0mstream\u001b[0m\u001b[0;34m=\u001b[0m\u001b[0;32mNone\u001b[0m\u001b[0;34m,\u001b[0m \u001b[0mDumper\u001b[0m\u001b[0;34m=\u001b[0m\u001b[0;34m<\u001b[0m\u001b[0;32mclass\u001b[0m \u001b[0;34m'yaml.dumper.Dumper'\u001b[0m\u001b[0;34m>\u001b[0m\u001b[0;34m,\u001b[0m \u001b[0;34m**\u001b[0m\u001b[0mkwds\u001b[0m\u001b[0;34m)\u001b[0m\u001b[0;34m\u001b[0m\u001b[0;34m\u001b[0m\u001b[0m\n",
      "\u001b[0;31mDocstring:\u001b[0m\n",
      "Serialize a Python object into a YAML stream.\n",
      "If stream is None, return the produced string instead.\n",
      "\u001b[0;31mFile:\u001b[0m      ~/.pyenv/versions/3.8.12/lib/python3.8/site-packages/yaml/__init__.py\n",
      "\u001b[0;31mType:\u001b[0m      function\n"
     ]
    }
   ],
   "source": [
    "yaml.dump?"
   ]
  }
 ],
 "metadata": {
  "interpreter": {
   "hash": "8b8334dab9339717f727a1deaf837b322d7a41c20d15cc86be99a8e69ceec8ce"
  },
  "kernelspec": {
   "display_name": "Python 3.8.12 64-bit ('3.8.12')",
   "language": "python",
   "name": "python3"
  },
  "language_info": {
   "codemirror_mode": {
    "name": "ipython",
    "version": 3
   },
   "file_extension": ".py",
   "mimetype": "text/x-python",
   "name": "python",
   "nbconvert_exporter": "python",
   "pygments_lexer": "ipython3",
   "version": "3.8.12"
  },
  "orig_nbformat": 4
 },
 "nbformat": 4,
 "nbformat_minor": 2
}
