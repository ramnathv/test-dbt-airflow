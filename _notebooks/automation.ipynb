{
 "cells": [
  {
   "cell_type": "code",
   "execution_count": 1,
   "metadata": {},
   "outputs": [],
   "source": [
    "import yaml\n",
    "import pandas as pd\n",
    "from pathlib import Path\n",
    "foo_yaml = Path('foo.yml').read_text()\n",
    "dag_config = yaml.safe_load(foo_yaml)\n",
    "# pd.DataFrame(dag_config['tasks'])"
   ]
  },
  {
   "cell_type": "code",
   "execution_count": null,
   "metadata": {},
   "outputs": [],
   "source": [
    "tasks_all = dag_config['dag_factory_dp']['tasks']\n",
    "tasks_df = pd.DataFrame(tasks_all).T\n",
    "tasks_df['task_name'] = tasks_df.index\n",
    "tasks_df.reset_index(drop=True).head()"
   ]
  },
  {
   "cell_type": "code",
   "execution_count": 4,
   "metadata": {},
   "outputs": [],
   "source": [
    "tasks_all_mappings = {k: v['task_group_name'] for k, v in tasks_all.items()}"
   ]
  },
  {
   "cell_type": "code",
   "execution_count": 54,
   "metadata": {},
   "outputs": [],
   "source": [
    "from copy import deepcopy\n",
    "def write_dag_yml(dag_name = 'views_content'):\n",
    "    _tasks = {\n",
    "        task_name: task_config \n",
    "        for task_name, task_config in tasks_all.items() \n",
    "        if task_config['task_group_name'] == dag_name\n",
    "    }\n",
    "    tasks = deepcopy(_tasks)\n",
    "    task_names = [k for k, v in tasks.items()]\n",
    "    \n",
    "    for task_name in task_names:\n",
    "        dependencies = tasks[task_name].get('dependencies', [])\n",
    "        deps = []\n",
    "        for dep in dependencies:\n",
    "            if 'src' in dep:\n",
    "                pass\n",
    "            elif dep not in task_names:\n",
    "                deps.append(f'wait_for_{dep}')\n",
    "            else:\n",
    "                deps.append(dep)\n",
    "                \n",
    "        tasks[task_name]['task_group_name'] = f'{task_name.split(\"_\")[0]}_g'\n",
    "        tasks[task_name]['dependencies'] = deps\n",
    "\n",
    "    deps = [v.get('dependencies', []) for k, v in tasks.items()]\n",
    "    wait_for_tasks = list(set([item for sublist in deps for item in sublist if 'wait' in item]))\n",
    "    for wait_for_task in wait_for_tasks:\n",
    "        tasks[wait_for_task] = dict(\n",
    "        operator = \"airflow.sensors.external_task.ExternalTaskSensor\",\n",
    "        external_dag_id =  tasks_all_mappings[wait_for_task.replace('wait_for_', '')],\n",
    "        external_task_id = wait_for_task.replace('wait_for_', ''),\n",
    "        task_group_name = tasks_all_mappings[wait_for_task.replace('wait_for_', '')]\n",
    "    )\n",
    "\n",
    "    _task_groups = list(set([v.get('task_group_name') for k, v in tasks.items() if v.get('task_group_name') is not None]))\n",
    "    task_groups = {v: {} for v in _task_groups}\n",
    "    \n",
    "    out_2 = dict(task_groups = task_groups, tasks = tasks)\n",
    "    out = {dag_name: {**out_1, **out_2}}\n",
    "    with open(f'{dag_name}.yml', 'w') as file:\n",
    "        yaml.dump(out, sort_keys=False, stream=file)\n"
   ]
  },
  {
   "cell_type": "code",
   "execution_count": 40,
   "metadata": {},
   "outputs": [],
   "source": [
    "out_1 = yaml.safe_load(\"\"\"\n",
    "default_args:\n",
    "    owner: example_owner\n",
    "    start_date: '2022-02-12'\n",
    "    retries: 1\n",
    "    retry_delay_sec: 300\n",
    "    dir: '/workspace/test-dbt-airflow/dbt-greenery'\n",
    "schedule_interval: None\n",
    "concurrency: 1\n",
    "max_active_runs: 1\n",
    "dagrun_timeout_sec: 300\n",
    "default_view: tree\n",
    "orientation: LR\n",
    "description: this is an example dag!\n",
    "\"\"\")\n"
   ]
  }
 ],
 "metadata": {
  "interpreter": {
   "hash": "8b8334dab9339717f727a1deaf837b322d7a41c20d15cc86be99a8e69ceec8ce"
  },
  "kernelspec": {
   "display_name": "Python 3.8.12 64-bit ('3.8.12')",
   "language": "python",
   "name": "python3"
  },
  "language_info": {
   "codemirror_mode": {
    "name": "ipython",
    "version": 3
   },
   "file_extension": ".py",
   "mimetype": "text/x-python",
   "name": "python",
   "nbconvert_exporter": "python",
   "pygments_lexer": "ipython3",
   "version": "3.8.12"
  },
  "orig_nbformat": 4
 },
 "nbformat": 4,
 "nbformat_minor": 2
}
